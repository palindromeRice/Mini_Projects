{
  "nbformat": 4,
  "nbformat_minor": 0,
  "metadata": {
    "colab": {
      "provenance": []
    },
    "kernelspec": {
      "name": "python3",
      "display_name": "Python 3"
    },
    "language_info": {
      "name": "python"
    }
  },
  "cells": [
    {
      "cell_type": "code",
      "execution_count": 20,
      "metadata": {
        "id": "RBBiKTtiHQmu"
      },
      "outputs": [],
      "source": [
        "#  importing the necessary librairies\n",
        "import numpy as np\n",
        "import matplotlib.pyplot as plt\n",
        "import cv2\n",
        "from PIL import Image\n",
        "\n",
        "%matplotlib inline\n",
        "#  important code snippet"
      ]
    },
    {
      "cell_type": "code",
      "source": [
        "from google.colab import drive\n",
        "drive.mount('/content/gdrive')"
      ],
      "metadata": {
        "colab": {
          "base_uri": "https://localhost:8080/"
        },
        "id": "piKwWwUfLhZe",
        "outputId": "a494eaa5-fba8-45f8-f347-0c91f468b501"
      },
      "execution_count": 21,
      "outputs": [
        {
          "output_type": "stream",
          "name": "stdout",
          "text": [
            "Drive already mounted at /content/gdrive; to attempt to forcibly remount, call drive.mount(\"/content/gdrive\", force_remount=True).\n"
          ]
        }
      ]
    },
    {
      "cell_type": "code",
      "source": [
        "# img = Image.open('/content/gdrive/My Drive/download.jpeg')\n",
        "\n",
        "\n",
        "# img_shape = img.size\n",
        "\n",
        "# print(img_shape)\n",
        "\n"
      ],
      "metadata": {
        "colab": {
          "base_uri": "https://localhost:8080/"
        },
        "id": "n4wIZcRgJZWM",
        "outputId": "802ff8f4-5bef-4051-a323-b97da52aec3f"
      },
      "execution_count": 24,
      "outputs": [
        {
          "output_type": "stream",
          "name": "stdout",
          "text": [
            "(225, 225)\n"
          ]
        }
      ]
    },
    {
      "cell_type": "code",
      "source": [
        "img_path = '/content/gdrive/My Drive/download.jpeg'\n",
        "img = cv2.imread(img_path)\n",
        "print(img.shape);\n",
        "\n",
        "\n",
        "#  resizing the image\n",
        "\n",
        "img = cv2.resize(img,(1500,800))\n",
        "\n",
        "print(img.shape)"
      ],
      "metadata": {
        "colab": {
          "base_uri": "https://localhost:8080/"
        },
        "id": "2cCSwuA2Ul29",
        "outputId": "b22ae5f5-f202-4550-e7ec-159fd58ee65d"
      },
      "execution_count": 28,
      "outputs": [
        {
          "output_type": "stream",
          "name": "stdout",
          "text": [
            "(225, 225, 3)\n",
            "(800, 1500, 3)\n"
          ]
        }
      ]
    }
  ]
}